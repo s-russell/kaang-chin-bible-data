{
 "cells": [
  {
   "cell_type": "code",
   "execution_count": 1,
   "metadata": {},
   "outputs": [],
   "source": [
    "from bible_parser import BibleParser"
   ]
  },
  {
   "cell_type": "code",
   "execution_count": 11,
   "metadata": {},
   "outputs": [],
   "source": [
    "with open('data/nt-final-lines.txt') as f:\n",
    "    dirty_lines = f.readlines()\n",
    "    \n",
    "lines = [line.strip() for line in dirty_lines if line.strip()]\n",
    "bp = BibleParser('Kaang Chin')\n",
    "bible = bp.parse(lines)"
   ]
  },
  {
   "cell_type": "markdown",
   "metadata": {},
   "source": [
    "# Possible Book Subtitles:\n",
    "| Book | Subtitle |\n",
    "|---|---|\n",
    "|John| Thu Sala Tangnak |\n",
    "|1 Thesaloni | Ayumtu Boenak |"
   ]
  },
  {
   "cell_type": "code",
   "execution_count": 12,
   "metadata": {},
   "outputs": [
    {
     "name": "stdout",
     "output_type": "stream",
     "text": [
      "Mate has 28 chapters\n",
      "Mark has 12 chapters\n",
      "Luka has 24 chapters\n",
      "John has 21 chapters\n",
      "Thoeithanak has 28 chapters\n",
      "Romen has 16 chapters\n",
      "1 Korin has 16 chapters\n",
      "2 Korin has 13 chapters\n",
      "Kalati has 6 chapters\n",
      "Efisa has 6 chapters\n",
      "Filipi has 4 chapters\n",
      "Kolote has 4 chapters\n",
      "1 Thesaloni has 5 chapters\n",
      "2 Thesaloni has 3 chapters\n",
      "1 Timothy has 6 chapters\n",
      "2 Timothy has 4 chapters\n",
      "Titus has 3 chapters\n",
      "Filemon has 1 chapters\n",
      "Hebrew has 13 chapters\n",
      "James has 5 chapters\n",
      "1 Peter has 5 chapters\n",
      "2 Peter has 3 chapters\n",
      "1 John has 5 chapters\n",
      "2 John has 1 chapters\n",
      "3 John has 1 chapters\n",
      "Jude has 1 chapters\n",
      "Thuphran has 22 chapters\n"
     ]
    }
   ],
   "source": [
    "for book in bible.books:\n",
    "    print(f\"{book.name} has {len(book.chapters)} chapters\")"
   ]
  }
 ],
 "metadata": {
  "kernelspec": {
   "display_name": "Python 3",
   "language": "python",
   "name": "python3"
  },
  "language_info": {
   "codemirror_mode": {
    "name": "ipython",
    "version": 3
   },
   "file_extension": ".py",
   "mimetype": "text/x-python",
   "name": "python",
   "nbconvert_exporter": "python",
   "pygments_lexer": "ipython3",
   "version": "3.7.3"
  }
 },
 "nbformat": 4,
 "nbformat_minor": 4
}
