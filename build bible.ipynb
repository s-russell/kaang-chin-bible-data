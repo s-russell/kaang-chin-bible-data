{
 "cells": [
  {
   "cell_type": "code",
   "execution_count": 1,
   "metadata": {},
   "outputs": [],
   "source": [
    "from bible_parser import BibleParser"
   ]
  },
  {
   "cell_type": "code",
   "execution_count": 8,
   "metadata": {},
   "outputs": [],
   "source": [
    "with open('data/nt-final-lines.txt') as f:\n",
    "    dirty_lines = f.readlines()\n",
    "    \n",
    "lines = [line.strip() for line in dirty_lines if line.strip()]\n",
    "bp = BibleParser('Kaang Chin')\n",
    "bible = bp.parse(lines)"
   ]
  },
  {
   "cell_type": "markdown",
   "metadata": {},
   "source": [
    "# Possible Book Subtitles:\n",
    "| Book | Subtitle |\n",
    "|---|---|\n",
    "|John| Thu Sala Tangnak |\n",
    "|1 Thesaloni | Ayumtu Boenak |"
   ]
  },
  {
   "cell_type": "code",
   "execution_count": 9,
   "metadata": {},
   "outputs": [
    {
     "name": "stdout",
     "output_type": "stream",
     "text": [
      "Mate has 28 chapters\n",
      "Mark has 12 chapters\n",
      "Luka has 24 chapters\n",
      "John has 21 chapters\n",
      "Thoeithanak has 28 chapters\n",
      "Romen has 16 chapters\n",
      "1 Korin has 16 chapters\n",
      "2 Korin has 13 chapters\n",
      "Kalati has 6 chapters\n",
      "Efisa has 6 chapters\n",
      "FILIPI has 4 chapters\n",
      "KOLOTE has 4 chapters\n",
      "Ayumtu Boenak has 5 chapters\n",
      "2THESALONI has 3 chapters\n",
      "1TIMOTHY has 6 chapters\n",
      "2 TIMOTHY has 4 chapters\n",
      "TITUS has 3 chapters\n",
      "FILEMON has 1 chapters\n",
      "HEBREW has 13 chapters\n",
      "JAME has 5 chapters\n",
      "1PITER has 5 chapters\n",
      "2 PETER has 3 chapters\n",
      "1JOHN has 5 chapters\n",
      "2 JOHN has 1 chapters\n",
      "3 JOHN has 1 chapters\n",
      "JUDE has 1 chapters\n",
      "THUPHRAN has 22 chapters\n"
     ]
    }
   ],
   "source": [
    "for book in bible.books:\n",
    "    print(f\"{book.name} has {len(book.chapters)} chapters\")"
   ]
  }
 ],
 "metadata": {
  "kernelspec": {
   "display_name": "Python 3",
   "language": "python",
   "name": "python3"
  },
  "language_info": {
   "codemirror_mode": {
    "name": "ipython",
    "version": 3
   },
   "file_extension": ".py",
   "mimetype": "text/x-python",
   "name": "python",
   "nbconvert_exporter": "python",
   "pygments_lexer": "ipython3",
   "version": "3.7.3"
  }
 },
 "nbformat": 4,
 "nbformat_minor": 4
}
