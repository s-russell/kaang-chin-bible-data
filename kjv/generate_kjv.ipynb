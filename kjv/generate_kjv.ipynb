{
 "cells": [
  {
   "cell_type": "code",
   "execution_count": 1,
   "metadata": {},
   "outputs": [],
   "source": [
    "with open('kjvdat.txt') as fin:\n",
    "    lines = fin.readlines()\n",
    "    \n",
    "verses = kjv = [{'book': book, 'chapter': chapter, 'verse_number': verse_number, 'verse_text': verse_text.strip()[:-1]} for book, chapter, verse_number, verse_text in [line.split('|') for line in lines]]"
   ]
  },
  {
   "cell_type": "code",
   "execution_count": 13,
   "metadata": {},
   "outputs": [],
   "source": [
    "def make_insert(verse):\n",
    "    return f\"\"\"insert into verse (version, book_code, chapter_number, verse_number, verse_text) values ((select id from bible_version where name = 'King James'), '{verse['book'].lower()}', {verse['chapter']}, {verse['verse_number']}, '{verse['verse_text'].replace(\"'\",\"''\")}');\\n\"\"\""
   ]
  },
  {
   "cell_type": "code",
   "execution_count": 14,
   "metadata": {},
   "outputs": [],
   "source": [
    "inserts = [make_insert(v) for v in verses]\n",
    "with open('populate_kjv.sql','w') as fout:\n",
    "    fout.writelines(inserts)"
   ]
  }
 ],
 "metadata": {
  "kernelspec": {
   "display_name": "Python 3",
   "language": "python",
   "name": "python3"
  },
  "language_info": {
   "codemirror_mode": {
    "name": "ipython",
    "version": 3
   },
   "file_extension": ".py",
   "mimetype": "text/x-python",
   "name": "python",
   "nbconvert_exporter": "python",
   "pygments_lexer": "ipython3",
   "version": "3.7.3"
  }
 },
 "nbformat": 4,
 "nbformat_minor": 4
}
