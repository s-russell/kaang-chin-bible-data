{
 "cells": [
  {
   "cell_type": "code",
   "execution_count": 2,
   "metadata": {},
   "outputs": [],
   "source": [
    "import json\n",
    "with open('verse_counts.json') as f:\n",
    "    data = json.load(f)\n",
    "    \n",
    "data;"
   ]
  },
  {
   "cell_type": "code",
   "execution_count": 4,
   "metadata": {},
   "outputs": [],
   "source": [
    "rows = []\n",
    "\n",
    "for book, verse_counts in data.items():\n",
    "    for index, verse_count in enumerate(verse_counts):\n",
    "        rows.append((book, index+1, verse_count))"
   ]
  },
  {
   "cell_type": "code",
   "execution_count": 6,
   "metadata": {},
   "outputs": [],
   "source": [
    "lines = []\n",
    "lines.append('insert into verse_count (book_code, chapter, verse_count) values\\n')\n",
    "lines += [f\"('{book_code}', {chapter}, {verse_count}),\\n\" for book_code, chapter, verse_count in rows]\n",
    "\n",
    "with open('populate_verse_counts.sql','w') as fout:\n",
    "    fout.writelines(lines)"
   ]
  }
 ],
 "metadata": {
  "kernelspec": {
   "display_name": "Python 3",
   "language": "python",
   "name": "python3"
  },
  "language_info": {
   "codemirror_mode": {
    "name": "ipython",
    "version": 3
   },
   "file_extension": ".py",
   "mimetype": "text/x-python",
   "name": "python",
   "nbconvert_exporter": "python",
   "pygments_lexer": "ipython3",
   "version": "3.7.3"
  }
 },
 "nbformat": 4,
 "nbformat_minor": 4
}
