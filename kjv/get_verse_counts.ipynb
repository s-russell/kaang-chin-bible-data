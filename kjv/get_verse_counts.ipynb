{
 "cells": [
  {
   "cell_type": "code",
   "execution_count": 6,
   "metadata": {},
   "outputs": [],
   "source": [
    "with open('kjvdat.txt') as f:\n",
    "    lines = [ line.strip() for line in f.readlines() if line]"
   ]
  },
  {
   "cell_type": "code",
   "execution_count": 10,
   "metadata": {},
   "outputs": [],
   "source": [
    "kjv = [{'book': book, 'chapter': chapter, 'verse_number': verse_number, 'verse_text': verse_text.strip()[:-1]} for book, chapter, verse_number, verse_text in [line.split('|') for line in lines]]"
   ]
  },
  {
   "cell_type": "code",
   "execution_count": 25,
   "metadata": {},
   "outputs": [],
   "source": [
    "max_verses = dict()\n",
    "for verse in kjv:\n",
    "    key = f\"{verse['book']}|{verse['chapter']}\"\n",
    "    current_max = max_verses.get(key, 0)\n",
    "    max_verses[key] = max([current_max, int(verse['verse_number'])])\n",
    "    \n",
    "max_verses;"
   ]
  },
  {
   "cell_type": "code",
   "execution_count": 29,
   "metadata": {},
   "outputs": [],
   "source": [
    "chapter_counts = dict()\n",
    "for book_chapter in max_verses.keys():\n",
    "    book, chapter = book_chapter.split('|')\n",
    "    c = int(chapter)\n",
    "    chapter_counts[book] = max(c, chapter_counts.get(book, 0))\n",
    "\n",
    "counts = {}\n",
    "for book, chapter_count in chapter_counts.items():\n",
    "    verse_counts = [0]*chapter_count\n",
    "    for i in range(chapter_count):\n",
    "        verse_counts[i] = max_verses[f\"{book}|{i+1}\"]\n",
    "    counts[book] = verse_counts\n",
    "    \n",
    "counts;"
   ]
  },
  {
   "cell_type": "code",
   "execution_count": 33,
   "metadata": {},
   "outputs": [],
   "source": [
    "import json\n",
    "\n",
    "with open('verse_counts.json', 'w') as outf:\n",
    "    json.dump(counts, outf)"
   ]
  }
 ],
 "metadata": {
  "kernelspec": {
   "display_name": "Python 3",
   "language": "python",
   "name": "python3"
  },
  "language_info": {
   "codemirror_mode": {
    "name": "ipython",
    "version": 3
   },
   "file_extension": ".py",
   "mimetype": "text/x-python",
   "name": "python",
   "nbconvert_exporter": "python",
   "pygments_lexer": "ipython3",
   "version": "3.7.3"
  }
 },
 "nbformat": 4,
 "nbformat_minor": 4
}
