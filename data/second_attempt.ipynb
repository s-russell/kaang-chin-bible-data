{
 "cells": [
  {
   "cell_type": "code",
   "execution_count": 2,
   "metadata": {},
   "outputs": [
    {
     "ename": "ModuleNotFoundError",
     "evalue": "No module named '__main__.book_builder'; '__main__' is not a package",
     "output_type": "error",
     "traceback": [
      "\u001b[0;31m---------------------------------------------------------------------------\u001b[0m",
      "\u001b[0;31mModuleNotFoundError\u001b[0m                       Traceback (most recent call last)",
      "\u001b[0;32m<ipython-input-2-0d3ebe833e3d>\u001b[0m in \u001b[0;36m<module>\u001b[0;34m\u001b[0m\n\u001b[1;32m      1\u001b[0m \u001b[0;32mimport\u001b[0m \u001b[0mdocx2txt\u001b[0m\u001b[0;34m\u001b[0m\u001b[0;34m\u001b[0m\u001b[0m\n\u001b[1;32m      2\u001b[0m \u001b[0;32mimport\u001b[0m \u001b[0mre\u001b[0m\u001b[0;34m\u001b[0m\u001b[0;34m\u001b[0m\u001b[0m\n\u001b[0;32m----> 3\u001b[0;31m \u001b[0;32mfrom\u001b[0m \u001b[0;34m.\u001b[0m\u001b[0mbook_builder\u001b[0m\u001b[0;34m.\u001b[0m\u001b[0mbook_builder\u001b[0m \u001b[0;32mimport\u001b[0m \u001b[0mBookBuilder\u001b[0m\u001b[0;34m\u001b[0m\u001b[0;34m\u001b[0m\u001b[0m\n\u001b[0m",
      "\u001b[0;31mModuleNotFoundError\u001b[0m: No module named '__main__.book_builder'; '__main__' is not a package"
     ]
    }
   ],
   "source": [
    "import docx2txt\n",
    "import re\n",
    "from "
   ]
  },
  {
   "cell_type": "code",
   "execution_count": 5,
   "metadata": {},
   "outputs": [
    {
     "data": {
      "text/plain": [
       "False"
      ]
     },
     "execution_count": 5,
     "metadata": {},
     "output_type": "execute_result"
    }
   ],
   "source": [
    "a = [1,2,3]\n",
    "b = a[:]\n",
    "a is b"
   ]
  },
  {
   "cell_type": "code",
   "execution_count": 2,
   "metadata": {},
   "outputs": [],
   "source": [
    "johan_txt = docx2txt.process('Johan.docx')"
   ]
  },
  {
   "cell_type": "code",
   "execution_count": 28,
   "metadata": {},
   "outputs": [],
   "source": [
    "lines = [line.strip() for line in johan_txt.split('\\n\\n') if line.strip() != '']"
   ]
  },
  {
   "cell_type": "code",
   "execution_count": 53,
   "metadata": {},
   "outputs": [],
   "source": [
    "class Verse:\n",
    "    number = -1\n",
    "    title = ''\n",
    "    text = ''\n",
    "    \n",
    "    def __init__(self,number,text,title=''):\n",
    "        self.number = number\n",
    "        self.text = text\n",
    "        \n",
    "\n",
    "\n",
    "class Chapter:\n",
    "    number = -1\n",
    "    title = ''\n",
    "    verses = []\n",
    "    \n",
    "    def __init__(self,number):\n",
    "        self.number = number\n",
    "        \n",
    "    def add_verse(self,verse):\n",
    "        self.verses.append(verse)\n",
    "        self.verses.sort(key=lambda v: v.number)\n",
    "        \n",
    "    def add_all_verses(self,verses):\n",
    "        self.verses.extend(verses)\n",
    "        self.verses.sort(key=lambda v: v.number)\n",
    "        \n",
    "    def get_verse(self,number):\n",
    "        return verses[number-1] if number <= len(verses) else None"
   ]
  },
  {
   "cell_type": "code",
   "execution_count": 52,
   "metadata": {},
   "outputs": [
    {
     "data": {
      "text/plain": [
       "['43 Angawi hnuep Kalile ceh eilah Jesu tuenkue. Philip hmuein, “Ni hruilaw,” a tinak.',\n",
       " '44 Andrew awn Peter mueihla Philip haw, Bethsaida khawchrang la kraku.',\n",
       " '45 Philip pein Nathanael hmuein atoek pek, “Sanghma tu einphi a mawng amruk, Moses einphi thukhoenna among a ruk, Joseph pei capa, Nazareth Jesu ka hmuh kue,” a tinak.',\n",
       " '46 Nathanael nein, “Nazareth khaw ah aveh tueidawng hningngei yaw?” tilah a doedtah Philip pein, “Lawna boen,” a tinak.',\n",
       " '47 Nathanael alaw Jesu ein a hmuh ah, “Cawdtei oeh ompueng Nazareth khaw chrang tangkik cawh ah omkue,” a tinak.',\n",
       " '48 Nathanael nein, “Hawmueihla nanhmat a tinak,” ah, “Philip pein oeh ankhue pha, theising kaiah naom vengah, kan hmuh kue,” Jesu ein a tinak.',\n",
       " '49 Khanei Nathanael nei, “Tikkikpueng, nang kha Israel tuei hrangpuei, Fanpuhri ei Capa la na krakue,” a ti.',\n",
       " '50 Jesu ein, “Theising yungah na om vengah kan hmuhkue kati awn nayum kue,” tinaein, “Khacawh la baungai pueng nahmuh ei,” a tinak.',\n",
       " '51 “Khakonna thutak kan then u ei, fan a hmongkru awn chrangcapa ei fanna, fanchrangtu am krumkai namhmu ei,” a tinak.']"
      ]
     },
     "execution_count": 52,
     "metadata": {},
     "output_type": "execute_result"
    }
   ],
   "source": [
    "verse_chunk = '43Angawi hnuep Kalile ceh eilah Jesu tuenkue. Philip hmuein, “Ni hruilaw,” a tinak. 44Andrew awn Peter mueihla Philip haw, Bethsaida khawchrang la kraku. 45Philip pein Nathanael hmuein atoek pek, “Sanghma tu einphi a mawng amruk, Moses einphi thukhoenna among a ruk, Joseph pei capa, Nazareth Jesu ka hmuh kue,” a tinak. 46Nathanael nein, “Nazareth khaw ah aveh tueidawng hningngei yaw?” tilah a doedtah Philip pein, “Lawna boen,” a tinak. 47Nathanael alaw Jesu ein a hmuh ah, “Cawdtei oeh ompueng Nazareth khaw chrang tangkik cawh ah omkue,” a tinak. 48Nathanael nein, “Hawmueihla nanhmat a tinak,” ah, “Philip pein oeh ankhue pha, theising kaiah naom vengah, kan hmuh kue,” Jesu ein a tinak. 49Khanei Nathanael nei, “Tikkikpueng, nang kha Israel tuei hrangpuei, Fanpuhri ei Capa la na krakue,” a ti. 50Jesu ein, “Theising yungah na om vengah kan hmuhkue kati awn nayum kue,” tinaein, “Khacawh la baungai pueng nahmuh ei,” a tinak. 51“Khakonna thutak kan then u ei, fan a hmongkru awn chrangcapa ei fanna, fanchrangtu am krumkai namhmu ei,” a tinak.'\n",
    "def parse_verse_chunk(chunk):\n",
    "    verse_tuples = re.findall('(\\d+)(\\D+)',chunk)\n",
    "    return [Verse(int(n), t.strip()) for n, t in verse_tuples]\n",
    "verses = parse_verse_chunk(verse_chunk)\n",
    "[f\"{v.number} {v.text}\" for v in verses]"
   ]
  },
  {
   "cell_type": "code",
   "execution_count": 15,
   "metadata": {},
   "outputs": [
    {
     "data": {
      "text/plain": [
       "True"
      ]
     },
     "execution_count": 15,
     "metadata": {},
     "output_type": "execute_result"
    }
   ],
   "source": [
    "bool(re.match('^\\d+','12This is what a verse chunk looks like. 13Another verse, \"ends with a quote.\"'))"
   ]
  },
  {
   "cell_type": "code",
   "execution_count": 16,
   "metadata": {},
   "outputs": [
    {
     "data": {
      "text/plain": [
       "False"
      ]
     },
     "execution_count": 16,
     "metadata": {},
     "output_type": "execute_result"
    }
   ],
   "source": [
    "bool(re.match('^\\d+','Some title text'))"
   ]
  }
 ],
 "metadata": {
  "kernelspec": {
   "display_name": "Python 3",
   "language": "python",
   "name": "python3"
  },
  "language_info": {
   "codemirror_mode": {
    "name": "ipython",
    "version": 3
   },
   "file_extension": ".py",
   "mimetype": "text/x-python",
   "name": "python",
   "nbconvert_exporter": "python",
   "pygments_lexer": "ipython3",
   "version": "3.7.3"
  }
 },
 "nbformat": 4,
 "nbformat_minor": 4
}
