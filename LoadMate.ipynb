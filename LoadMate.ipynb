{
 "cells": [
  {
   "cell_type": "code",
   "execution_count": 1,
   "metadata": {},
   "outputs": [],
   "source": [
    "import docx2txt\n",
    "from book_builder.book_builder import BookBuilder"
   ]
  },
  {
   "cell_type": "code",
   "execution_count": 2,
   "metadata": {},
   "outputs": [],
   "source": [
    "import sqlite3\n",
    "conn = sqlite3.connect('data/kcbible.db')\n",
    "db = conn.cursor()"
   ]
  },
  {
   "cell_type": "code",
   "execution_count": 28,
   "metadata": {},
   "outputs": [
    {
     "name": "stdout",
     "output_type": "stream",
     "text": [
      "book MATE THUTHANGNI has 28 chapters with a combined total of 1068 verses\n"
     ]
    }
   ],
   "source": [
    "book_txt = docx2txt.process('docx_normalized/Mate.docx')\n",
    "lines = [line.strip() for line in book_txt.split('\\n\\n') if line.strip() != '']\n",
    "bb = BookBuilder(lines[0])\n",
    "for line in lines[1:]:\n",
    "    bb.process(line)\n",
    "book = bb.build()\n",
    "print(f\"book {book.title} has {len(book.chapters)} chapters with a combined total of {sum([len(c.verses) for c in book.chapters])} verses\")"
   ]
  },
  {
   "cell_type": "code",
   "execution_count": 29,
   "metadata": {},
   "outputs": [],
   "source": [
    "db.execute('insert into book(name, language) values(?,?)',('Mate','Kaang Chin'))\n",
    "book_id = db.lastrowid\n",
    "conn.commit()"
   ]
  },
  {
   "cell_type": "code",
   "execution_count": 30,
   "metadata": {},
   "outputs": [],
   "source": [
    "insert_chapter = \"\"\"\n",
    "    insert into chapter(number, title, book_id)\n",
    "    values(?,?,?)\n",
    "    \"\"\""
   ]
  },
  {
   "cell_type": "code",
   "execution_count": 31,
   "metadata": {},
   "outputs": [],
   "source": [
    "insert_verse = \"\"\"\n",
    "    insert into verse(number, title, text, chapter_id)\n",
    "    values(?,?,?,?)\n",
    "\"\"\""
   ]
  },
  {
   "cell_type": "code",
   "execution_count": 32,
   "metadata": {},
   "outputs": [],
   "source": [
    "for c in book.chapters:\n",
    "    chapter_params = (c.number, c.title if c.title else None, book_id)\n",
    "    db.execute(insert_chapter, chapter_params)\n",
    "    chapter_id = db.lastrowid\n",
    "    verse_params = [(v.number,v.title if v.title else None,v.text,chapter_id) for v in c.verses]\n",
    "    db.executemany(insert_verse, verse_params)\n",
    "conn.commit()"
   ]
  },
  {
   "cell_type": "code",
   "execution_count": 35,
   "metadata": {},
   "outputs": [
    {
     "data": {
      "text/plain": [
       "['22:1 Jesu ein nuetnak awn thu a toekbai hei.',\n",
       " '22:2 Fanram kha, a ca ei chruumnak aw ai biloupueng ei Hrangpuei awn toeng kue.',\n",
       " '22:3 Chruum buh ai la, a khueu hei khoen, oeh lawhluepuengtu khueu bai yeila, a saiitu tueih hei kue.',\n",
       " '22:4 Vantangkong awn boivok athauhetu, ka ngon ein avan ka ripkhoen kue, chruumnak la, tuek hei khoentu law u eila, vawtoek hei u tikue, saii feitu tueih hei bai kue.',\n",
       " '22:5 Khanaphi oeh ngai u ein am lou la ceit hei u ein afeitu kha sumlei la ceit u kue.',\n",
       " '22:6 Apoih ein a saiitu pang ein thekhana khap u ein ngon hei u kue.',\n",
       " '22:7 Hrangpuei ein a yaakah, a kawtheh ein, am khawtu mei awn khum u kom ngon hei u eila, a raiikaptu tuei hei kue.',\n",
       " '22:8 Khakonna a saiitu a toek hei, chruumnak kha atangte la krakue, khanaphi ka khueutu oeh hawina u kue a ti.',\n",
       " '22:9 Khatiein lampuei la ceit u, nam hmuh poeng chruum buh ai la khueu hei u a ti.',\n",
       " '22:10 Asaiitu kha lampoengah ceit u ein am hmuh avan chrangni chrangthe atoengla, am bumnak awn chruumnak im ah yinbe khuep kue.',\n",
       " '22:11 Khanaphi buh aipueng yintu boen eila, Hrangpuei a lawah chruum yih oeh suisapueng chrangapum hmuh kue.',\n",
       " '22:12 Ka puei, hatumueihla chruumnak suisak oeh thoem la cawhah na law? a tiah, ani oeh thuhlot kue.',\n",
       " '22:13 Hrangpugang ein saiitu a toek hei, a kutkhaw pin u na, hngicuih faaceepnak awn kiunak hmun ei pungvang ahmuepnak khuila fit u a ti.',\n",
       " '22:14 Hatulatiah khueu dakom phi, hruei kenkue a ti.',\n",
       " '22:15 Khanei thu a toeknak la, katnak pang eila, Farisetu ceit u ein doedkru u kue.',\n",
       " '22:16 Ani eila, a hnuhruitu awn Herod tei hnuhruitu, am tueih. Tukkitpueng, atang na toek ein thutak awn Fanpuhri ei lam na theithang, chrang ei ngaih oeh na ruih ein, hauei mikhmai phi oeh na boen kam hmat kue.',\n",
       " '22:17 Khatiein hatumueihla, na ngaih? Caesar cawngpek kha, thumcam awn koek aw? oeh koek aw? ni then u amti.',\n",
       " '22:18 Khanaphi amni ei tuuenong oeh ani hmat ein, Jesu ein nangmih chrangtheilaitu, hatula nan noekdah uh.',\n",
       " '22:19 Nam cawng ei ngui aphe ni hmuh u a tiah, denari aphe am lawpuei.',\n",
       " '22:20 A toek hei, cawh hauei mueime num? hauei mingnum am ruk a tiah.',\n",
       " '22:21 Amni ein, Caesar ei am tiah, Jesu ein, Caesar ei khawh Caesar peh u, Fanpuhri ei khawh Fanpuhri peh u tikue.',\n",
       " '22:22 Khacawh am yaakah, cawei u ein ani cehta u kue.',\n",
       " '22:23 Akhapoetta saduce avang ein thawhbainak oeh awm ei tipuengtu Jesu eila lawh u ein doed u kue.',\n",
       " '22:24 Tukkitpueng, chrangapum chrumah ein, oeh aca pha ah si kue, anau vein chruna kom, a koei yei hamla cape eila Moses ein ni toek u kue.',\n",
       " '22:25 Tuboeih koeinau parih kamlawh ein; avaisoeih chrumah ein oeh cala si kue, anau vei hamla, a chru taguet kue.',\n",
       " '22:26 Akhamueihla apahnih, apathum, aparihnak duet la krakue.',\n",
       " '22:27 Ahnusoeih ah, nuta phi si kue.',\n",
       " '22:28 Khatiein thawhbai hnuep ah, khacawh ei nuta kha hauei chru la kra ei. Am van ei am chrunak amti.',\n",
       " '22:29 Fanpuhri ei huham awn thucim oeh nam hmat la nam ngaih thoih kue tiein Jesu ein hlan hei kue.',\n",
       " '22:30 Thawhbai lawah chruumnak awn chrumanak oeh awm ei; Fankhaw la fanchrangtu awn nim toeng ei.',\n",
       " '22:31 Sipuengtuei thawhbainak awn ruisuipueng la, Fanpuhri ein an toek uh, oeh nam khekhawi kuene?',\n",
       " '22:32 Keikha Abraham ei Fanpuhri, Issac kei Fanpuhri, Jacob pei Fanpuhri la ka krakue a ti. Ani kha asituei Fanpuhri la oeh krah ein, ahringtuei Fanpuhri la krakuea ti.',\n",
       " '22:33 Khacawh chrangpring ein am yakah, a theithang awn am van rukha boeih u kue.',\n",
       " '22:34 Jesu ein saducetu oeh thuhlot u eila, hlan hei kue ti Farisetu ein ya u ein am van kruum u kue.',\n",
       " '22:35 Amni khuiyei thukhoen hmatpueng apum ein, ani doed ein a noekdah.',\n",
       " '22:36 Tukkitpueng, thukhoen khuiah, hatu thupeek num abausoeih tiein a doed?',\n",
       " '22:37 Jesu ein, nam Bawipa Fanpuhri nam lungsin avan, nam Hmueichra avan, nam luchrok avan awn yongna u.',\n",
       " '22:38 Cawhkha abausoeih awn amasoeih thupeek la krakue.',\n",
       " '22:39 Na yongkrunak mueihla na imteng yongna tikha, apahnih thukhoen, amasoeih awn toeng kue.',\n",
       " '22:40 Cawh ei thupeek pahnih kha Sanghmatu awn thukhoentuei cuinak la krakue.',\n",
       " '22:41 Farisetu am kruum hnuiah, Jesu ein a doed hei.',\n",
       " '22:42 Chrih ei amawng hatumueihla nam ngaih? Ani hauei ca num? Ani kha David tei capa am ti.',\n",
       " '22:43 Jesu ein, David tein Chrih Hmueichra awn hatula Bawipa tiein a khueu? tina hei kue.',\n",
       " '22:44 David tei thukha, Fanpuhri ein na raiitu, na khawpha kaila oeh ka taakpha ei chrueih, ka patvang ah ngoiyoe tiein ka Bawipa toek kue David tein a ti.',\n",
       " '22:45 Khatiein David tein ani Bawipa la a khueu vah, hatumueihla ani, acala, akra kaw? a tinak.',\n",
       " '22:46 Hauein aniei doednak thukhang oet awn phi, oeh hlan hning kue, Akha hnuep ah tuen ein hauein phi oeh doed baihe u kue.']"
      ]
     },
     "execution_count": 35,
     "metadata": {},
     "output_type": "execute_result"
    }
   ],
   "source": [
    "def test(c,v):\n",
    "    return c.number == 22\n",
    "\n",
    "def getVerses(b):\n",
    "    return [f\"{c.number}:{v.number} {v.text}\" for c in b.chapters for v in c.verses if test(c,v)]\n",
    "\n",
    "getVerses(book)"
   ]
  },
  {
   "cell_type": "code",
   "execution_count": 10,
   "metadata": {},
   "outputs": [],
   "source": [
    "conn.close()"
   ]
  }
 ],
 "metadata": {
  "kernelspec": {
   "display_name": "Python 3",
   "language": "python",
   "name": "python3"
  },
  "language_info": {
   "codemirror_mode": {
    "name": "ipython",
    "version": 3
   },
   "file_extension": ".py",
   "mimetype": "text/x-python",
   "name": "python",
   "nbconvert_exporter": "python",
   "pygments_lexer": "ipython3",
   "version": "3.7.3"
  }
 },
 "nbformat": 4,
 "nbformat_minor": 4
}
