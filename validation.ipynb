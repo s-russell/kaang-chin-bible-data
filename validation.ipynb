{
 "cells": [
  {
   "cell_type": "code",
   "execution_count": null,
   "metadata": {},
   "outputs": [],
   "source": [
    "from bible_parser import BibleParser"
   ]
  },
  {
   "cell_type": "code",
   "execution_count": null,
   "metadata": {
    "jupyter": {
     "source_hidden": true
    }
   },
   "outputs": [],
   "source": [
    "def get_numbers(number_string):\n",
    "    return [int(n) for n in number_string.split()]\n",
    "\n",
    "\n",
    "book_data = [\n",
    "    {'file': 'Mate', 'name': 'Mate', 'stats': {\n",
    "        'chapter_count': 28,\n",
    "        'verses_counts': get_numbers('25\t23\t17\t25\t48\t34\t29\t34\t38\t42\t30\t50\t58\t36\t39\t28\t27\t35\t30\t34\t46\t46\t39\t51\t46\t75\t66\t20')\n",
    "    }},\n",
    "    {'file': 'Mark', 'name': 'Mark', 'stats': {\n",
    "        'chapter_count': 16,\n",
    "        'verses_counts': get_numbers('45\t28\t35\t41\t43\t56\t37\t38\t50\t52\t33\t44\t37\t72\t47\t20')\n",
    "    }},\n",
    "    {'file': 'Luka ei Thuthangni', 'name': 'Luka', 'stats': {\n",
    "        'chapter_count': 24,\n",
    "        'verses_counts': get_numbers('80\t52\t38\t44\t39\t49\t50\t56\t62\t42\t54\t59\t35\t35\t32\t31\t37\t43\t48\t47\t38\t71\t56\t53')\n",
    "    }},\n",
    "    {'file': 'Johan', 'name': 'John', 'stats': {\n",
    "        'chapter_count': 21,\n",
    "        'verses_counts': get_numbers('51\t25\t36\t54\t47\t71\t53\t59\t41\t42\t57\t50\t38\t31\t27\t33\t26\t40\t42\t31\t25')\n",
    "    }},\n",
    "    {'file': 'THOEITHANAK', 'name': 'Thoeithanak', 'stats': {\n",
    "        'chapter_count': 28,\n",
    "        'verses_counts': get_numbers('26\t47\t26\t37\t42\t15\t60\t40\t43\t48\t30\t25\t52\t28\t41\t40\t34\t28\t40\t38\t40\t30\t35\t27\t27\t32\t44\t31')\n",
    "    }},  # Acts\n",
    "    {'file': 'ROMEN', 'name': 'Romen', 'stats': {\n",
    "        'chapter_count': 16,\n",
    "        'verses_counts': get_numbers('32\t29\t31\t25\t21\t23\t25\t39\t33\t21\t36\t21\t14\t23\t33\t27')\n",
    "    }},\n",
    "    {'file': '1Korintu', 'name': '1 Korin', 'stats': {\n",
    "        'chapter_count': 16,\n",
    "        'verses_counts': get_numbers('31\t16\t23\t21\t13\t20\t40\t13\t27\t33\t34\t31\t13\t40\t58\t24')\n",
    "    }},\n",
    "    {'file': '2Korintu', 'name': '2 Korin', 'stats': {\n",
    "        'chapter_count': 13,\n",
    "        'verses_counts': get_numbers('24\t17\t18\t18\t21\t18\t16\t24\t15\t18\t33\t21\t13')\n",
    "    }},\n",
    "    {'file': 'Kalati', 'name': 'Kalati', 'stats': {\n",
    "        'chapter_count': 6,\n",
    "        'verses_counts': get_numbers('24\t21\t29\t31\t26\t18')\n",
    "    }},  # Galations\n",
    "    {'file': 'Efisa', 'name': 'Efisa', 'stats': {\n",
    "        'chapter_count': 6,\n",
    "        'verses_counts': get_numbers('23\t22\t21\t32\t33\t24')\n",
    "    }},\n",
    "    {'file': 'Filipi', 'name': 'Filipi', 'stats': {\n",
    "        'chapter_count': 4,\n",
    "        'verses_counts': get_numbers('30\t30\t21\t23')\n",
    "    }},\n",
    "    {'file': 'Kolote', 'name': 'Kolote', 'stats': {\n",
    "        'chapter_count': 4,\n",
    "        'verses_counts': get_numbers('29\t23\t25\t18')\n",
    "    }},  # Colosians\n",
    "    {'file': '1THESALONI', 'name': '1 Thesaloni', 'stats': {\n",
    "        'chapter_count': 5,\n",
    "        'verses_counts': get_numbers('10\t20\t13\t18\t28')\n",
    "    }},\n",
    "    {'file': '2THESALONI', 'name': '2 Thesaloni', 'stats': {\n",
    "        'chapter_count': 3,\n",
    "        'verses_counts': get_numbers('12\t17\t18')\n",
    "    }},\n",
    "    {'file': '1TIMOTHY', 'name': '1 Timothy', 'stats': {\n",
    "        'chapter_count': 6,\n",
    "        'verses_counts': get_numbers('20\t15\t16\t16\t25\t21')\n",
    "    }},\n",
    "    {'file': '2TIMOTHY', 'name': '2 Timothy', 'stats': {\n",
    "        'chapter_count': 4,\n",
    "        'verses_counts': get_numbers('18\t26\t17\t22')\n",
    "    }},\n",
    "    {'file': 'TITUS', 'name': 'Titus', 'stats': {\n",
    "        'chapter_count': 3,\n",
    "        'verses_counts': get_numbers('16\t15\t15')\n",
    "    }},\n",
    "    {'file': 'FILEMON', 'name': 'Filemon', 'stats': {\n",
    "        'chapter_count': 1,\n",
    "        'verses_counts': get_numbers('25')\n",
    "    }},\n",
    "    {'file': 'HEBREW', 'name': 'Hebrews', 'stats': {\n",
    "        'chapter_count': 13,\n",
    "        'verses_counts': get_numbers('14\t18\t19\t16\t14\t20\t28\t13\t28\t39\t40\t29\t25')\n",
    "    }},\n",
    "    {'file': 'JAME', 'name': 'James', 'stats': {\n",
    "        'chapter_count': 5,\n",
    "        'verses_counts': get_numbers('27\t26\t18\t17\t20')\n",
    "    }},\n",
    "    {'file': '1PITER', 'name': '1 Peter', 'stats': {\n",
    "        'chapter_count': 5,\n",
    "        'verses_counts': get_numbers('25\t25\t22\t19\t14')\n",
    "    }},\n",
    "    {'file': '2PETER', 'name': '2 Peter', 'stats': {\n",
    "        'chapter_count': 3,\n",
    "        'verses_counts': get_numbers('21\t22\t18')\n",
    "    }},\n",
    "    {'file': '1JOHN', 'name': '1 John', 'stats': {\n",
    "        'chapter_count': 5,\n",
    "        'verses_counts': get_numbers('10\t29\t24\t21\t21')\n",
    "    }},\n",
    "    {'file': '2JOHN', 'name': '2 John', 'stats': {\n",
    "        'chapter_count': 1,\n",
    "        'verses_counts': get_numbers('13')\n",
    "    }},\n",
    "    {'file': '3 JOHN', 'name': '3 John', 'stats': {\n",
    "        'chapter_count': 1,\n",
    "        'verses_counts': get_numbers('15')\n",
    "    }},\n",
    "    {'file': 'JUDE', 'name': 'Jude', 'stats': {\n",
    "        'chapter_count': 1,\n",
    "        'verses_counts': get_numbers('25')\n",
    "    }},\n",
    "    {'file': 'Thuphran', 'name': 'Thuphran', 'stats': {\n",
    "        'chapter_count': 22,\n",
    "        'verses_counts': get_numbers('20\t29\t22\t11\t14\t17\t17\t13\t21\t11\t19\t17\t18\t20\t8\t21\t18\t24\t21\t15\t27\t21')\n",
    "    }},  # Revelations\n",
    "]"
   ]
  },
  {
   "cell_type": "markdown",
   "metadata": {},
   "source": [
    "# Parse Raw Text"
   ]
  },
  {
   "cell_type": "code",
   "execution_count": null,
   "metadata": {},
   "outputs": [],
   "source": [
    "with open('data/nt-final-lines.txt', encoding='UTF-8') as f:\n",
    "    dirty_lines = f.readlines()\n",
    "    \n",
    "lines = [line.strip() for line in dirty_lines if line.strip()]\n",
    "bp = BibleParser('Kaang Chin')\n",
    "bible = bp.parse(lines)"
   ]
  },
  {
   "cell_type": "markdown",
   "metadata": {},
   "source": [
    "# Check Chapter Counts"
   ]
  },
  {
   "cell_type": "code",
   "execution_count": null,
   "metadata": {},
   "outputs": [],
   "source": [
    "def has_missing_chapters(book):\n",
    "    expected_chapter_count = [b for b in book_data if b['name'] == book.name][0]['stats']['chapter_count']\n",
    "    return len(book.chapters) != expected_chapter_count, {'expected': expected_chapter_count, 'actual': len(book.chapters)}"
   ]
  },
  {
   "cell_type": "code",
   "execution_count": null,
   "metadata": {},
   "outputs": [],
   "source": [
    "for b in bible.books:\n",
    "    missing, details = has_missing_chapters(b)\n",
    "    if missing:\n",
    "        print(f\"{b.name} had {details['actual']} chapters but {details['expected']} were expected.\")"
   ]
  },
  {
   "cell_type": "markdown",
   "metadata": {},
   "source": [
    "# Export Bible Object to JSON"
   ]
  },
  {
   "cell_type": "code",
   "execution_count": null,
   "metadata": {},
   "outputs": [],
   "source": [
    "bible_data = [\n",
    "    {\n",
    "        'name': book.name, \n",
    "        'chapters': \n",
    "        [\n",
    "            {\n",
    "                'number': c.number, \n",
    "                'verses': \n",
    "                [\n",
    "                    {\n",
    "                        'number': v.number, \n",
    "                        'title': v.title, \n",
    "                        'text': v.text\n",
    "                    } \n",
    "                    for v in c.verses\n",
    "                ]\n",
    "            } \n",
    "            for c in book.chapters\n",
    "        ]\n",
    "    } \n",
    "    for book in bible.books\n",
    "]"
   ]
  },
  {
   "cell_type": "code",
   "execution_count": 7,
   "metadata": {},
   "outputs": [],
   "source": [
    "import json\n",
    "bible_json = json.dumps(bible_data, indent=4)\n",
    "with open('data/nt-final.json', 'w', encoding='UTF-8') as f:\n",
    "    f.write(bible_json)"
   ]
  }
 ],
 "metadata": {
  "kernelspec": {
   "display_name": "Python 3",
   "language": "python",
   "name": "python3"
  },
  "language_info": {
   "codemirror_mode": {
    "name": "ipython",
    "version": 3
   },
   "file_extension": ".py",
   "mimetype": "text/x-python",
   "name": "python",
   "nbconvert_exporter": "python",
   "pygments_lexer": "ipython3",
   "version": "3.7.7"
  }
 },
 "nbformat": 4,
 "nbformat_minor": 4
}
