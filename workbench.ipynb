{
 "cells": [
  {
   "cell_type": "markdown",
   "metadata": {},
   "source": [
    "# Supply Parameters"
   ]
  },
  {
   "cell_type": "code",
   "execution_count": 5,
   "metadata": {},
   "outputs": [],
   "source": [
    "db_path = 'data/kcbible.db'\n",
    "file_name = '2JOHN'\n",
    "book_name = '2 John'"
   ]
  },
  {
   "cell_type": "markdown",
   "metadata": {},
   "source": [
    "# Initial Load and Parse"
   ]
  },
  {
   "cell_type": "code",
   "execution_count": 6,
   "metadata": {},
   "outputs": [
    {
     "name": "stdout",
     "output_type": "stream",
     "text": [
      "book 2 JOHN has 1 chapters with a combined total of 14 verses\n"
     ]
    }
   ],
   "source": [
    "import docx2txt\n",
    "from book_builder.book_builder import BookBuilder\n",
    "import sqlite3\n",
    "\n",
    "\n",
    "book_txt = docx2txt.process(f\"docx_normalized/{file_name}.docx\")\n",
    "lines = [line.strip() for line in book_txt.split('\\n\\n') if line.strip() != '']\n",
    "bb = BookBuilder(lines[0])\n",
    "for line in lines[1:]:\n",
    "    bb.process(line)\n",
    "book = bb.build()\n",
    "print(f\"book {book.name} has {len(book.chapters)} chapters with a combined total of {sum([len(c.verses) for c in book.chapters])} verses\")"
   ]
  },
  {
   "cell_type": "markdown",
   "metadata": {},
   "source": [
    "# Validation"
   ]
  },
  {
   "cell_type": "code",
   "execution_count": 7,
   "metadata": {},
   "outputs": [
    {
     "data": {
      "text/plain": [
       "[]"
      ]
     },
     "execution_count": 7,
     "metadata": {},
     "output_type": "execute_result"
    }
   ],
   "source": [
    "def dupe_verse(c,v): return len([v1 for v1 in c.verses if v1.number == v.number]) > 1\n",
    "def zero_in_verse(v): return v.number == 0\n",
    "\n",
    "def test(c,v):\n",
    "    #return dupe_verse(c,v) or zero_in_verse(v)\n",
    "    return c.number == 12\n",
    "\n",
    "def validation_errors(b):\n",
    "    return [f\"{c.number}:{v.number} {v.text}\" for c in b.chapters for v in c.verses if test(c,v)]\n",
    "\n",
    "validation_errors(book)"
   ]
  },
  {
   "cell_type": "markdown",
   "metadata": {},
   "source": [
    "# Write to Database"
   ]
  },
  {
   "cell_type": "code",
   "execution_count": 4,
   "metadata": {},
   "outputs": [],
   "source": [
    "conn = sqlite3.connect(db_path)\n",
    "db = conn.cursor()\n",
    "\n",
    "db.execute('insert into book(name, language) values(?,?)',(book_name,'Kaang Chin'))\n",
    "book_id = db.lastrowid\n",
    "conn.commit()\n",
    "\n",
    "insert_chapter = \"\"\"\n",
    "    insert into chapter(number, title, book_id)\n",
    "    values(?,?,?)\n",
    "    \"\"\"\n",
    "\n",
    "insert_verse = \"\"\"\n",
    "    insert into verse(number, title, text, chapter_id)\n",
    "    values(?,?,?,?)\n",
    "    \"\"\"\n",
    "\n",
    "for c in book.chapters:\n",
    "    chapter_params = (c.number, c.title if c.title else None, book_id)\n",
    "    db.execute(insert_chapter, chapter_params)\n",
    "    chapter_id = db.lastrowid\n",
    "    verse_params = [(v.number,v.title if v.title else None,v.text,chapter_id) for v in c.verses]\n",
    "    db.executemany(insert_verse, verse_params)\n",
    "conn.commit()\n",
    "\n",
    "conn.close()"
   ]
  },
  {
   "cell_type": "code",
   "execution_count": 8,
   "metadata": {},
   "outputs": [
    {
     "data": {
      "text/plain": [
       "[25,\n",
       " 23,\n",
       " 17,\n",
       " 25,\n",
       " 48,\n",
       " 34,\n",
       " 29,\n",
       " 34,\n",
       " 38,\n",
       " 42,\n",
       " 30,\n",
       " 50,\n",
       " 58,\n",
       " 36,\n",
       " 39,\n",
       " 28,\n",
       " 27,\n",
       " 35,\n",
       " 30,\n",
       " 34,\n",
       " 46,\n",
       " 46,\n",
       " 39,\n",
       " 51,\n",
       " 46,\n",
       " 75,\n",
       " 66,\n",
       " 20]"
      ]
     },
     "execution_count": 8,
     "metadata": {},
     "output_type": "execute_result"
    }
   ],
   "source": [
    "def get_numbers(number_string):\n",
    "    return [int(n) for n in number_string.split()]\n",
    "\n",
    "\n",
    "get_numbers('25\t23\t17\t25\t48\t34\t29\t34\t38\t42\t30\t50\t58\t36\t39\t28\t27\t35\t30\t34\t46\t46\t39\t51\t46\t75\t66\t20')"
   ]
  }
 ],
 "metadata": {
  "kernelspec": {
   "display_name": "Python 3",
   "language": "python",
   "name": "python3"
  },
  "language_info": {
   "codemirror_mode": {
    "name": "ipython",
    "version": 3
   },
   "file_extension": ".py",
   "mimetype": "text/x-python",
   "name": "python",
   "nbconvert_exporter": "python",
   "pygments_lexer": "ipython3",
   "version": "3.7.3"
  }
 },
 "nbformat": 4,
 "nbformat_minor": 4
}
