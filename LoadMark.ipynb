{
 "cells": [
  {
   "cell_type": "code",
   "execution_count": 1,
   "metadata": {},
   "outputs": [],
   "source": [
    "import docx2txt\n",
    "from book_builder.book_builder import BookBuilder"
   ]
  },
  {
   "cell_type": "code",
   "execution_count": 2,
   "metadata": {},
   "outputs": [],
   "source": [
    "import sqlite3\n",
    "conn = sqlite3.connect('data/kcbible.db')\n",
    "db = conn.cursor()"
   ]
  },
  {
   "cell_type": "code",
   "execution_count": 3,
   "metadata": {},
   "outputs": [
    {
     "name": "stdout",
     "output_type": "stream",
     "text": [
      "book Mark Thuthangni has 16 chapters with a combined total of 674 verses\n"
     ]
    }
   ],
   "source": [
    "book_txt = docx2txt.process('docx_normalized/Mark.docx')\n",
    "lines = [line.strip() for line in book_txt.split('\\n\\n') if line.strip() != '']\n",
    "bb = BookBuilder(lines[0])\n",
    "for line in lines[1:]:\n",
    "    bb.process(line)\n",
    "book = bb.build()\n",
    "print(f\"book {book.title} has {len(book.chapters)} chapters with a combined total of {sum([len(c.verses) for c in book.chapters])} verses\")"
   ]
  },
  {
   "cell_type": "code",
   "execution_count": 4,
   "metadata": {},
   "outputs": [],
   "source": [
    "book_name = 'Mark Thuthangni'"
   ]
  },
  {
   "cell_type": "code",
   "execution_count": 5,
   "metadata": {},
   "outputs": [],
   "source": [
    "db.execute('insert into book(name, language) values(?,?)',(book_name,'Kaang Chin'))\n",
    "book_id = db.lastrowid\n",
    "conn.commit()"
   ]
  },
  {
   "cell_type": "code",
   "execution_count": 6,
   "metadata": {},
   "outputs": [],
   "source": [
    "insert_chapter = \"\"\"\n",
    "    insert into chapter(number, title, book_id)\n",
    "    values(?,?,?)\n",
    "    \"\"\"\n",
    "\n",
    "insert_verse = \"\"\"\n",
    "    insert into verse(number, title, text, chapter_id)\n",
    "    values(?,?,?,?)\n",
    "    \"\"\""
   ]
  },
  {
   "cell_type": "code",
   "execution_count": 7,
   "metadata": {},
   "outputs": [],
   "source": [
    "for c in book.chapters:\n",
    "    chapter_params = (c.number, c.title if c.title else None, book_id)\n",
    "    db.execute(insert_chapter, chapter_params)\n",
    "    chapter_id = db.lastrowid\n",
    "    verse_params = [(v.number,v.title if v.title else None,v.text,chapter_id) for v in c.verses]\n",
    "    db.executemany(insert_verse, verse_params)\n",
    "conn.commit()"
   ]
  },
  {
   "cell_type": "code",
   "execution_count": 29,
   "metadata": {},
   "outputs": [
    {
     "data": {
      "text/plain": [
       "[]"
      ]
     },
     "execution_count": 29,
     "metadata": {},
     "output_type": "execute_result"
    }
   ],
   "source": [
    "def test(c,v):\n",
    "    return len([v1 for v1 in c.verses if v1.number == v.number]) > 1\n",
    "\n",
    "def getVerses(b):\n",
    "    return [f\"{c.number}:{v.number} {v.text}\" for c in b.chapters for v in c.verses if test(c,v)]\n",
    "\n",
    "getVerses(book)"
   ]
  },
  {
   "cell_type": "code",
   "execution_count": 30,
   "metadata": {},
   "outputs": [],
   "source": [
    "conn.close()"
   ]
  }
 ],
 "metadata": {
  "kernelspec": {
   "display_name": "Python 3",
   "language": "python",
   "name": "python3"
  },
  "language_info": {
   "codemirror_mode": {
    "name": "ipython",
    "version": 3
   },
   "file_extension": ".py",
   "mimetype": "text/x-python",
   "name": "python",
   "nbconvert_exporter": "python",
   "pygments_lexer": "ipython3",
   "version": "3.7.3"
  }
 },
 "nbformat": 4,
 "nbformat_minor": 4
}
